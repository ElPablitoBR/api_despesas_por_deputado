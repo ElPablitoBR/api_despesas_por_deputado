{
 "cells": [
  {
   "cell_type": "markdown",
   "metadata": {
    "id": "4g5478gBlH-F"
   },
   "source": [
    "### Leitura de Bibliotecas"
   ]
  },
  {
   "cell_type": "code",
   "execution_count": 24,
   "metadata": {
    "id": "lVDEaHdDRvUf"
   },
   "outputs": [
    {
     "name": "stdout",
     "output_type": "stream",
     "text": [
      "The sql extension is already loaded. To reload it, use:\n",
      "  %reload_ext sql\n"
     ]
    }
   ],
   "source": [
    "import requests\n",
    "import pandas as pd"
   ]
  },
  {
   "cell_type": "markdown",
   "metadata": {
    "id": "YKYHvVuuldbK"
   },
   "source": [
    "### Api com os dados dos deputados"
   ]
  },
  {
   "cell_type": "code",
   "execution_count": null,
   "metadata": {
    "id": "taoJ7z_Flaij"
   },
   "outputs": [],
   "source": [
    "##Para verificar com mais detalhes a descrição dos campos acesse: https://dadosabertos.camara.leg.br/swagger/api.html\n",
    "\n",
    "url = 'https://dadosabertos.camara.leg.br/api/v2/deputados'\n",
    "\n",
    "response = requests.get(url)\n",
    "if response.status_code == 200:\n",
    "    #Tranformando o retorno da api para dataframe\n",
    "    df_deputados = pd.DataFrame(response.json()['dados'])\n",
    "    print(df_deputados.shape)\n",
    "    \n",
    "else:\n",
    "    print(f'Erro ao obter lista de deputados: {response.status_code}')"
   ]
  },
  {
   "cell_type": "code",
   "execution_count": 33,
   "metadata": {
    "colab": {
     "base_uri": "https://localhost:8080/",
     "height": 313
    },
    "id": "d9yE87XAJoaU",
    "outputId": "eab65234-3b5a-44aa-cf02-c9be9e9acdc8"
   },
   "outputs": [
    {
     "data": {
      "text/html": [
       "<div>\n",
       "<style scoped>\n",
       "    .dataframe tbody tr th:only-of-type {\n",
       "        vertical-align: middle;\n",
       "    }\n",
       "\n",
       "    .dataframe tbody tr th {\n",
       "        vertical-align: top;\n",
       "    }\n",
       "\n",
       "    .dataframe thead th {\n",
       "        text-align: right;\n",
       "    }\n",
       "</style>\n",
       "<table border=\"1\" class=\"dataframe\">\n",
       "  <thead>\n",
       "    <tr style=\"text-align: right;\">\n",
       "      <th></th>\n",
       "      <th>id</th>\n",
       "      <th>uri</th>\n",
       "      <th>nome</th>\n",
       "      <th>siglaPartido</th>\n",
       "      <th>uriPartido</th>\n",
       "      <th>siglaUf</th>\n",
       "      <th>idLegislatura</th>\n",
       "      <th>urlFoto</th>\n",
       "      <th>email</th>\n",
       "    </tr>\n",
       "  </thead>\n",
       "  <tbody>\n",
       "    <tr>\n",
       "      <th>0</th>\n",
       "      <td>220593</td>\n",
       "      <td>https://dadosabertos.camara.leg.br/api/v2/depu...</td>\n",
       "      <td>Abilio Brunini</td>\n",
       "      <td>PL</td>\n",
       "      <td>https://dadosabertos.camara.leg.br/api/v2/part...</td>\n",
       "      <td>MT</td>\n",
       "      <td>57</td>\n",
       "      <td>https://www.camara.leg.br/internet/deputado/ba...</td>\n",
       "      <td>dep.abiliobrunini@camara.leg.br</td>\n",
       "    </tr>\n",
       "    <tr>\n",
       "      <th>1</th>\n",
       "      <td>204379</td>\n",
       "      <td>https://dadosabertos.camara.leg.br/api/v2/depu...</td>\n",
       "      <td>Acácio Favacho</td>\n",
       "      <td>MDB</td>\n",
       "      <td>https://dadosabertos.camara.leg.br/api/v2/part...</td>\n",
       "      <td>AP</td>\n",
       "      <td>57</td>\n",
       "      <td>https://www.camara.leg.br/internet/deputado/ba...</td>\n",
       "      <td>dep.acaciofavacho@camara.leg.br</td>\n",
       "    </tr>\n",
       "    <tr>\n",
       "      <th>2</th>\n",
       "      <td>220714</td>\n",
       "      <td>https://dadosabertos.camara.leg.br/api/v2/depu...</td>\n",
       "      <td>Adail Filho</td>\n",
       "      <td>REPUBLICANOS</td>\n",
       "      <td>https://dadosabertos.camara.leg.br/api/v2/part...</td>\n",
       "      <td>AM</td>\n",
       "      <td>57</td>\n",
       "      <td>https://www.camara.leg.br/internet/deputado/ba...</td>\n",
       "      <td>dep.adailfilho@camara.leg.br</td>\n",
       "    </tr>\n",
       "    <tr>\n",
       "      <th>3</th>\n",
       "      <td>221328</td>\n",
       "      <td>https://dadosabertos.camara.leg.br/api/v2/depu...</td>\n",
       "      <td>Adilson Barroso</td>\n",
       "      <td>PL</td>\n",
       "      <td>https://dadosabertos.camara.leg.br/api/v2/part...</td>\n",
       "      <td>SP</td>\n",
       "      <td>57</td>\n",
       "      <td>https://www.camara.leg.br/internet/deputado/ba...</td>\n",
       "      <td>dep.adilsonbarroso@camara.leg.br</td>\n",
       "    </tr>\n",
       "    <tr>\n",
       "      <th>4</th>\n",
       "      <td>204560</td>\n",
       "      <td>https://dadosabertos.camara.leg.br/api/v2/depu...</td>\n",
       "      <td>Adolfo Viana</td>\n",
       "      <td>PSDB</td>\n",
       "      <td>https://dadosabertos.camara.leg.br/api/v2/part...</td>\n",
       "      <td>BA</td>\n",
       "      <td>57</td>\n",
       "      <td>https://www.camara.leg.br/internet/deputado/ba...</td>\n",
       "      <td>dep.adolfoviana@camara.leg.br</td>\n",
       "    </tr>\n",
       "  </tbody>\n",
       "</table>\n",
       "</div>"
      ],
      "text/plain": [
       "       id                                                uri             nome  \\\n",
       "0  220593  https://dadosabertos.camara.leg.br/api/v2/depu...   Abilio Brunini   \n",
       "1  204379  https://dadosabertos.camara.leg.br/api/v2/depu...   Acácio Favacho   \n",
       "2  220714  https://dadosabertos.camara.leg.br/api/v2/depu...      Adail Filho   \n",
       "3  221328  https://dadosabertos.camara.leg.br/api/v2/depu...  Adilson Barroso   \n",
       "4  204560  https://dadosabertos.camara.leg.br/api/v2/depu...     Adolfo Viana   \n",
       "\n",
       "   siglaPartido                                         uriPartido siglaUf  \\\n",
       "0            PL  https://dadosabertos.camara.leg.br/api/v2/part...      MT   \n",
       "1           MDB  https://dadosabertos.camara.leg.br/api/v2/part...      AP   \n",
       "2  REPUBLICANOS  https://dadosabertos.camara.leg.br/api/v2/part...      AM   \n",
       "3            PL  https://dadosabertos.camara.leg.br/api/v2/part...      SP   \n",
       "4          PSDB  https://dadosabertos.camara.leg.br/api/v2/part...      BA   \n",
       "\n",
       "   idLegislatura                                            urlFoto  \\\n",
       "0             57  https://www.camara.leg.br/internet/deputado/ba...   \n",
       "1             57  https://www.camara.leg.br/internet/deputado/ba...   \n",
       "2             57  https://www.camara.leg.br/internet/deputado/ba...   \n",
       "3             57  https://www.camara.leg.br/internet/deputado/ba...   \n",
       "4             57  https://www.camara.leg.br/internet/deputado/ba...   \n",
       "\n",
       "                              email  \n",
       "0   dep.abiliobrunini@camara.leg.br  \n",
       "1   dep.acaciofavacho@camara.leg.br  \n",
       "2      dep.adailfilho@camara.leg.br  \n",
       "3  dep.adilsonbarroso@camara.leg.br  \n",
       "4     dep.adolfoviana@camara.leg.br  "
      ]
     },
     "execution_count": 33,
     "metadata": {},
     "output_type": "execute_result"
    }
   ],
   "source": [
    "#Exibimos os 5 primeiros registros\n",
    "df_deputados.head()"
   ]
  },
  {
   "cell_type": "markdown",
   "metadata": {
    "id": "UfG2ZhKLmJSz"
   },
   "source": [
    "### Api de gastos dos deputados"
   ]
  },
  {
   "cell_type": "code",
   "execution_count": 34,
   "metadata": {
    "id": "I9bDFRG6JH7q"
   },
   "outputs": [],
   "source": [
    "gastos = []\n",
    "\n",
    "for indice, deputado in df_deputados.iterrows():\n",
    "    id = deputado['id']\n",
    "    nome = deputado['nome']\n",
    "    url_gastos = f'https://dadosabertos.camara.leg.br/api/v2/deputados/{id}/despesas?ano=2023&ordem=ASC'\n",
    "    #print(url_gastos)\n",
    "    response_gastos = requests.get(url_gastos)\n",
    "    if response_gastos.status_code == 200:\n",
    "        gasto = pd.DataFrame(response_gastos.json()['dados'])\n",
    "        gasto['id'] = id\n",
    "        gastos.append(gasto)\n",
    "\n",
    "    else:\n",
    "        print(f'Erro ao obter gastos do deputado {nome}')\n",
    "\n",
    "# Concatena todos os DataFrames armazenados na lista 'gastos' em um único DataFrame\n",
    "df_gastos = pd.concat(gastos)"
   ]
  },
  {
   "cell_type": "code",
   "execution_count": 35,
   "metadata": {
    "colab": {
     "base_uri": "https://localhost:8080/"
    },
    "id": "r3g3ZPzrLnM4",
    "outputId": "21f72558-a5b9-46c7-e588-a78a78ce797a"
   },
   "outputs": [
    {
     "data": {
      "text/plain": [
       "(7576, 18)"
      ]
     },
     "execution_count": 35,
     "metadata": {},
     "output_type": "execute_result"
    }
   ],
   "source": [
    "df_gastos.shape"
   ]
  },
  {
   "cell_type": "code",
   "execution_count": 38,
   "metadata": {
    "colab": {
     "base_uri": "https://localhost:8080/",
     "height": 573
    },
    "id": "9YeL7FncRqfz",
    "outputId": "28b921ff-bc1f-4af7-9544-8d809345b971"
   },
   "outputs": [
    {
     "data": {
      "text/html": [
       "<div>\n",
       "<style scoped>\n",
       "    .dataframe tbody tr th:only-of-type {\n",
       "        vertical-align: middle;\n",
       "    }\n",
       "\n",
       "    .dataframe tbody tr th {\n",
       "        vertical-align: top;\n",
       "    }\n",
       "\n",
       "    .dataframe thead th {\n",
       "        text-align: right;\n",
       "    }\n",
       "</style>\n",
       "<table border=\"1\" class=\"dataframe\">\n",
       "  <thead>\n",
       "    <tr style=\"text-align: right;\">\n",
       "      <th></th>\n",
       "      <th>ano</th>\n",
       "      <th>mes</th>\n",
       "      <th>tipoDespesa</th>\n",
       "      <th>codDocumento</th>\n",
       "      <th>tipoDocumento</th>\n",
       "      <th>codTipoDocumento</th>\n",
       "      <th>dataDocumento</th>\n",
       "      <th>numDocumento</th>\n",
       "      <th>valorDocumento</th>\n",
       "      <th>urlDocumento</th>\n",
       "      <th>nomeFornecedor</th>\n",
       "      <th>cnpjCpfFornecedor</th>\n",
       "      <th>valorLiquido</th>\n",
       "      <th>valorGlosa</th>\n",
       "      <th>numRessarcimento</th>\n",
       "      <th>codLote</th>\n",
       "      <th>parcela</th>\n",
       "      <th>id</th>\n",
       "    </tr>\n",
       "  </thead>\n",
       "  <tbody>\n",
       "    <tr>\n",
       "      <th>0</th>\n",
       "      <td>2023.0</td>\n",
       "      <td>9.0</td>\n",
       "      <td>MANUTENÇÃO DE ESCRITÓRIO DE APOIO À ATIVIDADE ...</td>\n",
       "      <td>7610066.0</td>\n",
       "      <td>Nota Fiscal Eletrônica</td>\n",
       "      <td>4.0</td>\n",
       "      <td>2023-09-19</td>\n",
       "      <td>35537</td>\n",
       "      <td>52.98</td>\n",
       "      <td>http://www.camara.leg.br/cota-parlamentar/nota...</td>\n",
       "      <td>3XIS COMERCIO VAREJISTA E ATACADISTA DE PAPELA...</td>\n",
       "      <td>42999796000188</td>\n",
       "      <td>52.98</td>\n",
       "      <td>0.0</td>\n",
       "      <td></td>\n",
       "      <td>1969221.0</td>\n",
       "      <td>0.0</td>\n",
       "      <td>220593</td>\n",
       "    </tr>\n",
       "    <tr>\n",
       "      <th>1</th>\n",
       "      <td>2023.0</td>\n",
       "      <td>11.0</td>\n",
       "      <td>MANUTENÇÃO DE ESCRITÓRIO DE APOIO À ATIVIDADE ...</td>\n",
       "      <td>7657491.0</td>\n",
       "      <td>Nota Fiscal</td>\n",
       "      <td>0.0</td>\n",
       "      <td>2023-11-27</td>\n",
       "      <td>01</td>\n",
       "      <td>67.30</td>\n",
       "      <td>https://www.camara.leg.br/cota-parlamentar/doc...</td>\n",
       "      <td>AGUAS CUIABA S.A</td>\n",
       "      <td>14995581000153</td>\n",
       "      <td>67.30</td>\n",
       "      <td>0.0</td>\n",
       "      <td></td>\n",
       "      <td>1996163.0</td>\n",
       "      <td>0.0</td>\n",
       "      <td>220593</td>\n",
       "    </tr>\n",
       "    <tr>\n",
       "      <th>2</th>\n",
       "      <td>2023.0</td>\n",
       "      <td>5.0</td>\n",
       "      <td>MANUTENÇÃO DE ESCRITÓRIO DE APOIO À ATIVIDADE ...</td>\n",
       "      <td>7552621.0</td>\n",
       "      <td>Nota Fiscal</td>\n",
       "      <td>0.0</td>\n",
       "      <td>2023-05-05</td>\n",
       "      <td>11533052023001</td>\n",
       "      <td>43.20</td>\n",
       "      <td>https://www.camara.leg.br/cota-parlamentar/doc...</td>\n",
       "      <td>AGUAS CUIABA S.A</td>\n",
       "      <td>14995581000153</td>\n",
       "      <td>43.20</td>\n",
       "      <td>0.0</td>\n",
       "      <td></td>\n",
       "      <td>1938600.0</td>\n",
       "      <td>0.0</td>\n",
       "      <td>220593</td>\n",
       "    </tr>\n",
       "    <tr>\n",
       "      <th>3</th>\n",
       "      <td>2023.0</td>\n",
       "      <td>6.0</td>\n",
       "      <td>MANUTENÇÃO DE ESCRITÓRIO DE APOIO À ATIVIDADE ...</td>\n",
       "      <td>7587236.0</td>\n",
       "      <td>Recibos/Outros</td>\n",
       "      <td>1.0</td>\n",
       "      <td>2023-06-05</td>\n",
       "      <td>11533062023001</td>\n",
       "      <td>43.20</td>\n",
       "      <td>https://www.camara.leg.br/cota-parlamentar/doc...</td>\n",
       "      <td>AGUAS CUIABA S.A</td>\n",
       "      <td>14995581000153</td>\n",
       "      <td>43.20</td>\n",
       "      <td>0.0</td>\n",
       "      <td></td>\n",
       "      <td>1957493.0</td>\n",
       "      <td>0.0</td>\n",
       "      <td>220593</td>\n",
       "    </tr>\n",
       "    <tr>\n",
       "      <th>4</th>\n",
       "      <td>2023.0</td>\n",
       "      <td>7.0</td>\n",
       "      <td>MANUTENÇÃO DE ESCRITÓRIO DE APOIO À ATIVIDADE ...</td>\n",
       "      <td>7587239.0</td>\n",
       "      <td>Nota Fiscal</td>\n",
       "      <td>0.0</td>\n",
       "      <td>2023-07-05</td>\n",
       "      <td>11533072023001</td>\n",
       "      <td>43.20</td>\n",
       "      <td>https://www.camara.leg.br/cota-parlamentar/doc...</td>\n",
       "      <td>AGUAS CUIABA S.A</td>\n",
       "      <td>14995581000153</td>\n",
       "      <td>43.20</td>\n",
       "      <td>0.0</td>\n",
       "      <td></td>\n",
       "      <td>1957494.0</td>\n",
       "      <td>0.0</td>\n",
       "      <td>220593</td>\n",
       "    </tr>\n",
       "  </tbody>\n",
       "</table>\n",
       "</div>"
      ],
      "text/plain": [
       "      ano   mes                                        tipoDespesa  \\\n",
       "0  2023.0   9.0  MANUTENÇÃO DE ESCRITÓRIO DE APOIO À ATIVIDADE ...   \n",
       "1  2023.0  11.0  MANUTENÇÃO DE ESCRITÓRIO DE APOIO À ATIVIDADE ...   \n",
       "2  2023.0   5.0  MANUTENÇÃO DE ESCRITÓRIO DE APOIO À ATIVIDADE ...   \n",
       "3  2023.0   6.0  MANUTENÇÃO DE ESCRITÓRIO DE APOIO À ATIVIDADE ...   \n",
       "4  2023.0   7.0  MANUTENÇÃO DE ESCRITÓRIO DE APOIO À ATIVIDADE ...   \n",
       "\n",
       "   codDocumento           tipoDocumento  codTipoDocumento dataDocumento  \\\n",
       "0     7610066.0  Nota Fiscal Eletrônica               4.0    2023-09-19   \n",
       "1     7657491.0             Nota Fiscal               0.0    2023-11-27   \n",
       "2     7552621.0             Nota Fiscal               0.0    2023-05-05   \n",
       "3     7587236.0          Recibos/Outros               1.0    2023-06-05   \n",
       "4     7587239.0             Nota Fiscal               0.0    2023-07-05   \n",
       "\n",
       "     numDocumento  valorDocumento  \\\n",
       "0           35537           52.98   \n",
       "1              01           67.30   \n",
       "2  11533052023001           43.20   \n",
       "3  11533062023001           43.20   \n",
       "4  11533072023001           43.20   \n",
       "\n",
       "                                        urlDocumento  \\\n",
       "0  http://www.camara.leg.br/cota-parlamentar/nota...   \n",
       "1  https://www.camara.leg.br/cota-parlamentar/doc...   \n",
       "2  https://www.camara.leg.br/cota-parlamentar/doc...   \n",
       "3  https://www.camara.leg.br/cota-parlamentar/doc...   \n",
       "4  https://www.camara.leg.br/cota-parlamentar/doc...   \n",
       "\n",
       "                                      nomeFornecedor cnpjCpfFornecedor  \\\n",
       "0  3XIS COMERCIO VAREJISTA E ATACADISTA DE PAPELA...    42999796000188   \n",
       "1                                   AGUAS CUIABA S.A    14995581000153   \n",
       "2                                   AGUAS CUIABA S.A    14995581000153   \n",
       "3                                   AGUAS CUIABA S.A    14995581000153   \n",
       "4                                   AGUAS CUIABA S.A    14995581000153   \n",
       "\n",
       "   valorLiquido  valorGlosa numRessarcimento    codLote  parcela      id  \n",
       "0         52.98         0.0                   1969221.0      0.0  220593  \n",
       "1         67.30         0.0                   1996163.0      0.0  220593  \n",
       "2         43.20         0.0                   1938600.0      0.0  220593  \n",
       "3         43.20         0.0                   1957493.0      0.0  220593  \n",
       "4         43.20         0.0                   1957494.0      0.0  220593  "
      ]
     },
     "execution_count": 38,
     "metadata": {},
     "output_type": "execute_result"
    }
   ],
   "source": [
    "df_gastos.head()"
   ]
  },
  {
   "cell_type": "markdown",
   "metadata": {
    "id": "Sstk4_fWnOlq"
   },
   "source": [
    "Fazendo o merge do dataframe de deputados com o dataframe de gastos"
   ]
  },
  {
   "cell_type": "code",
   "execution_count": 44,
   "metadata": {
    "id": "jByrn-OJqCqF"
   },
   "outputs": [],
   "source": [
    "# Especifique as colunas que você deseja no resultado final\n",
    "colunas_deputados = ['id', 'nome', 'siglaPartido', 'siglaUf']\n",
    "colunas_gastos = ['id', 'ano', 'mes', 'tipoDespesa','nomeFornecedor', 'cnpjCpfFornecedor', \n",
    "                  'valorDocumento', 'valorGlosa', 'valorLiquido']\n",
    "\n",
    "# Mesclando os DataFrames com base na coluna 'id'\n",
    "df_gastos_x_deputado = pd.merge(df_deputados[colunas_deputados], df_gastos[colunas_gastos], on='id', how='inner')"
   ]
  },
  {
   "cell_type": "code",
   "execution_count": 45,
   "metadata": {
    "colab": {
     "base_uri": "https://localhost:8080/"
    },
    "id": "LNqX9rdQpJSi",
    "outputId": "b9238651-537e-464b-a21e-97a6991abc3b"
   },
   "outputs": [
    {
     "name": "stdout",
     "output_type": "stream",
     "text": [
      "<class 'pandas.core.frame.DataFrame'>\n",
      "RangeIndex: 7576 entries, 0 to 7575\n",
      "Data columns (total 12 columns):\n",
      " #   Column             Non-Null Count  Dtype  \n",
      "---  ------             --------------  -----  \n",
      " 0   id                 7576 non-null   int64  \n",
      " 1   nome               7576 non-null   object \n",
      " 2   siglaPartido       7576 non-null   object \n",
      " 3   siglaUf            7576 non-null   object \n",
      " 4   ano                7576 non-null   float64\n",
      " 5   mes                7576 non-null   float64\n",
      " 6   tipoDespesa        7576 non-null   object \n",
      " 7   nomeFornecedor     7576 non-null   object \n",
      " 8   cnpjCpfFornecedor  7576 non-null   object \n",
      " 9   valorDocumento     7576 non-null   float64\n",
      " 10  valorGlosa         7576 non-null   float64\n",
      " 11  valorLiquido       7576 non-null   float64\n",
      "dtypes: float64(5), int64(1), object(6)\n",
      "memory usage: 710.4+ KB\n"
     ]
    }
   ],
   "source": [
    "df_gastos_x_deputado.info()"
   ]
  },
  {
   "cell_type": "code",
   "execution_count": 46,
   "metadata": {
    "id": "nwVotbLxpOYK"
   },
   "outputs": [],
   "source": [
    "#Convertendo o mês e o ano e float para int\n",
    "df_gastos_x_deputado = df_gastos_x_deputado.astype({'mes': int, 'ano': int})"
   ]
  },
  {
   "cell_type": "code",
   "execution_count": 47,
   "metadata": {
    "colab": {
     "base_uri": "https://localhost:8080/"
    },
    "id": "9tqycrPSpxlC",
    "outputId": "09774242-914e-41f5-c50e-e6203b58c4c0"
   },
   "outputs": [
    {
     "name": "stdout",
     "output_type": "stream",
     "text": [
      "<class 'pandas.core.frame.DataFrame'>\n",
      "RangeIndex: 7576 entries, 0 to 7575\n",
      "Data columns (total 12 columns):\n",
      " #   Column             Non-Null Count  Dtype  \n",
      "---  ------             --------------  -----  \n",
      " 0   id                 7576 non-null   int64  \n",
      " 1   nome               7576 non-null   object \n",
      " 2   siglaPartido       7576 non-null   object \n",
      " 3   siglaUf            7576 non-null   object \n",
      " 4   ano                7576 non-null   int32  \n",
      " 5   mes                7576 non-null   int32  \n",
      " 6   tipoDespesa        7576 non-null   object \n",
      " 7   nomeFornecedor     7576 non-null   object \n",
      " 8   cnpjCpfFornecedor  7576 non-null   object \n",
      " 9   valorDocumento     7576 non-null   float64\n",
      " 10  valorGlosa         7576 non-null   float64\n",
      " 11  valorLiquido       7576 non-null   float64\n",
      "dtypes: float64(3), int32(2), int64(1), object(6)\n",
      "memory usage: 651.2+ KB\n"
     ]
    }
   ],
   "source": [
    "df_gastos_x_deputado.info()"
   ]
  },
  {
   "cell_type": "code",
   "execution_count": 48,
   "metadata": {
    "colab": {
     "base_uri": "https://localhost:8080/",
     "height": 394
    },
    "id": "Tpb5KyaeqmYn",
    "outputId": "a7c56787-531b-4887-f975-a91f7bfe35cb"
   },
   "outputs": [
    {
     "data": {
      "text/html": [
       "<div>\n",
       "<style scoped>\n",
       "    .dataframe tbody tr th:only-of-type {\n",
       "        vertical-align: middle;\n",
       "    }\n",
       "\n",
       "    .dataframe tbody tr th {\n",
       "        vertical-align: top;\n",
       "    }\n",
       "\n",
       "    .dataframe thead th {\n",
       "        text-align: right;\n",
       "    }\n",
       "</style>\n",
       "<table border=\"1\" class=\"dataframe\">\n",
       "  <thead>\n",
       "    <tr style=\"text-align: right;\">\n",
       "      <th></th>\n",
       "      <th>id</th>\n",
       "      <th>nome</th>\n",
       "      <th>siglaPartido</th>\n",
       "      <th>siglaUf</th>\n",
       "      <th>ano</th>\n",
       "      <th>mes</th>\n",
       "      <th>tipoDespesa</th>\n",
       "      <th>nomeFornecedor</th>\n",
       "      <th>cnpjCpfFornecedor</th>\n",
       "      <th>valorDocumento</th>\n",
       "      <th>valorGlosa</th>\n",
       "      <th>valorLiquido</th>\n",
       "    </tr>\n",
       "  </thead>\n",
       "  <tbody>\n",
       "    <tr>\n",
       "      <th>0</th>\n",
       "      <td>220593</td>\n",
       "      <td>Abilio Brunini</td>\n",
       "      <td>PL</td>\n",
       "      <td>MT</td>\n",
       "      <td>2023</td>\n",
       "      <td>9</td>\n",
       "      <td>MANUTENÇÃO DE ESCRITÓRIO DE APOIO À ATIVIDADE ...</td>\n",
       "      <td>3XIS COMERCIO VAREJISTA E ATACADISTA DE PAPELA...</td>\n",
       "      <td>42999796000188</td>\n",
       "      <td>52.98</td>\n",
       "      <td>0.0</td>\n",
       "      <td>52.98</td>\n",
       "    </tr>\n",
       "    <tr>\n",
       "      <th>1</th>\n",
       "      <td>220593</td>\n",
       "      <td>Abilio Brunini</td>\n",
       "      <td>PL</td>\n",
       "      <td>MT</td>\n",
       "      <td>2023</td>\n",
       "      <td>11</td>\n",
       "      <td>MANUTENÇÃO DE ESCRITÓRIO DE APOIO À ATIVIDADE ...</td>\n",
       "      <td>AGUAS CUIABA S.A</td>\n",
       "      <td>14995581000153</td>\n",
       "      <td>67.30</td>\n",
       "      <td>0.0</td>\n",
       "      <td>67.30</td>\n",
       "    </tr>\n",
       "    <tr>\n",
       "      <th>2</th>\n",
       "      <td>220593</td>\n",
       "      <td>Abilio Brunini</td>\n",
       "      <td>PL</td>\n",
       "      <td>MT</td>\n",
       "      <td>2023</td>\n",
       "      <td>5</td>\n",
       "      <td>MANUTENÇÃO DE ESCRITÓRIO DE APOIO À ATIVIDADE ...</td>\n",
       "      <td>AGUAS CUIABA S.A</td>\n",
       "      <td>14995581000153</td>\n",
       "      <td>43.20</td>\n",
       "      <td>0.0</td>\n",
       "      <td>43.20</td>\n",
       "    </tr>\n",
       "    <tr>\n",
       "      <th>3</th>\n",
       "      <td>220593</td>\n",
       "      <td>Abilio Brunini</td>\n",
       "      <td>PL</td>\n",
       "      <td>MT</td>\n",
       "      <td>2023</td>\n",
       "      <td>6</td>\n",
       "      <td>MANUTENÇÃO DE ESCRITÓRIO DE APOIO À ATIVIDADE ...</td>\n",
       "      <td>AGUAS CUIABA S.A</td>\n",
       "      <td>14995581000153</td>\n",
       "      <td>43.20</td>\n",
       "      <td>0.0</td>\n",
       "      <td>43.20</td>\n",
       "    </tr>\n",
       "    <tr>\n",
       "      <th>4</th>\n",
       "      <td>220593</td>\n",
       "      <td>Abilio Brunini</td>\n",
       "      <td>PL</td>\n",
       "      <td>MT</td>\n",
       "      <td>2023</td>\n",
       "      <td>7</td>\n",
       "      <td>MANUTENÇÃO DE ESCRITÓRIO DE APOIO À ATIVIDADE ...</td>\n",
       "      <td>AGUAS CUIABA S.A</td>\n",
       "      <td>14995581000153</td>\n",
       "      <td>43.20</td>\n",
       "      <td>0.0</td>\n",
       "      <td>43.20</td>\n",
       "    </tr>\n",
       "  </tbody>\n",
       "</table>\n",
       "</div>"
      ],
      "text/plain": [
       "       id            nome siglaPartido siglaUf   ano  mes  \\\n",
       "0  220593  Abilio Brunini           PL      MT  2023    9   \n",
       "1  220593  Abilio Brunini           PL      MT  2023   11   \n",
       "2  220593  Abilio Brunini           PL      MT  2023    5   \n",
       "3  220593  Abilio Brunini           PL      MT  2023    6   \n",
       "4  220593  Abilio Brunini           PL      MT  2023    7   \n",
       "\n",
       "                                         tipoDespesa  \\\n",
       "0  MANUTENÇÃO DE ESCRITÓRIO DE APOIO À ATIVIDADE ...   \n",
       "1  MANUTENÇÃO DE ESCRITÓRIO DE APOIO À ATIVIDADE ...   \n",
       "2  MANUTENÇÃO DE ESCRITÓRIO DE APOIO À ATIVIDADE ...   \n",
       "3  MANUTENÇÃO DE ESCRITÓRIO DE APOIO À ATIVIDADE ...   \n",
       "4  MANUTENÇÃO DE ESCRITÓRIO DE APOIO À ATIVIDADE ...   \n",
       "\n",
       "                                      nomeFornecedor cnpjCpfFornecedor  \\\n",
       "0  3XIS COMERCIO VAREJISTA E ATACADISTA DE PAPELA...    42999796000188   \n",
       "1                                   AGUAS CUIABA S.A    14995581000153   \n",
       "2                                   AGUAS CUIABA S.A    14995581000153   \n",
       "3                                   AGUAS CUIABA S.A    14995581000153   \n",
       "4                                   AGUAS CUIABA S.A    14995581000153   \n",
       "\n",
       "   valorDocumento  valorGlosa  valorLiquido  \n",
       "0           52.98         0.0         52.98  \n",
       "1           67.30         0.0         67.30  \n",
       "2           43.20         0.0         43.20  \n",
       "3           43.20         0.0         43.20  \n",
       "4           43.20         0.0         43.20  "
      ]
     },
     "execution_count": 48,
     "metadata": {},
     "output_type": "execute_result"
    }
   ],
   "source": [
    "df_gastos_x_deputado.head(5)"
   ]
  }
 ],
 "metadata": {
  "colab": {
   "provenance": []
  },
  "kernelspec": {
   "display_name": "Python 3 (ipykernel)",
   "language": "python",
   "name": "python3"
  },
  "language_info": {
   "codemirror_mode": {
    "name": "ipython",
    "version": 3
   },
   "file_extension": ".py",
   "mimetype": "text/x-python",
   "name": "python",
   "nbconvert_exporter": "python",
   "pygments_lexer": "ipython3",
   "version": "3.11.9"
  }
 },
 "nbformat": 4,
 "nbformat_minor": 4
}
